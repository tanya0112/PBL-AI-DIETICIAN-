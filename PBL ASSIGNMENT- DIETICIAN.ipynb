{
 "cells": [
  {
   "cell_type": "markdown",
   "id": "754d4bdc",
   "metadata": {},
   "source": [
    "***PBL ASSIGNMENT*** \n",
    "\n",
    "**TOPIC: DIETICIAN**\n",
    "\n",
    "**NAME: TANYA SAXENA**\n",
    "\n",
    "**PRN: 1032232001**"
   ]
  },
  {
   "cell_type": "markdown",
   "id": "78e48e62",
   "metadata": {},
   "source": [
    "***1. Installation of scikit-fuzzy:***\n",
    "\n",
    "The scikit-fuzzy library, a Python-based library, is installed for handling fuzzy logic operations."
   ]
  },
  {
   "cell_type": "code",
   "execution_count": 1,
   "id": "7f5f44be",
   "metadata": {},
   "outputs": [
    {
     "name": "stdout",
     "output_type": "stream",
     "text": [
      "Requirement already satisfied: scikit-fuzzy in c:\\users\\hp\\appdata\\local\\programs\\python\\python311\\lib\\site-packages (0.4.2)\n",
      "Requirement already satisfied: numpy>=1.6.0 in c:\\users\\hp\\appdata\\local\\programs\\python\\python311\\lib\\site-packages (from scikit-fuzzy) (1.24.2)\n",
      "Requirement already satisfied: scipy>=0.9.0 in c:\\users\\hp\\appdata\\local\\programs\\python\\python311\\lib\\site-packages (from scikit-fuzzy) (1.10.1)\n",
      "Requirement already satisfied: networkx>=1.9.0 in c:\\users\\hp\\appdata\\local\\programs\\python\\python311\\lib\\site-packages (from scikit-fuzzy) (3.1)\n"
     ]
    },
    {
     "name": "stderr",
     "output_type": "stream",
     "text": [
      "\n",
      "[notice] A new release of pip is available: 23.1.2 -> 23.3.1\n",
      "[notice] To update, run: python.exe -m pip install --upgrade pip\n"
     ]
    }
   ],
   "source": [
    "!pip install -U scikit-fuzzy"
   ]
  },
  {
   "cell_type": "markdown",
   "id": "e8dde318",
   "metadata": {},
   "source": [
    "***2. Importing Necessary Libraries:***\n",
    "\n",
    "* numpy is used for handling numerical operations.\n",
    "* skfuzzy and its control module are imported for creating and managing fuzzy variables, rules, and the control system.\n"
   ]
  },
  {
   "cell_type": "code",
   "execution_count": 2,
   "id": "26130fec",
   "metadata": {},
   "outputs": [],
   "source": [
    "import numpy as np\n",
    "import skfuzzy as fuzz\n",
    "from skfuzzy import control as ctrl\n"
   ]
  },
  {
   "cell_type": "markdown",
   "id": "12d8d7bb",
   "metadata": {},
   "source": [
    "***3. Defining Fuzzy Variables:***\n",
    "\n",
    "* Fuzzy variables for weight, age, activity_level, caloric_intake, and protein_intake are defined using Antecedent (for input variables) and Consequent (for output variables).\n",
    "* These variables represent both the inputs to and outputs from the fuzzy logic system."
   ]
  },
  {
   "cell_type": "code",
   "execution_count": 3,
   "id": "704b18a2",
   "metadata": {},
   "outputs": [],
   "source": [
    "# Define fuzzy variables\n",
    "weight = ctrl.Antecedent(np.arange(40, 150, 1), 'weight')\n",
    "age = ctrl.Antecedent(np.arange(18, 80, 1), 'age')\n",
    "activity_level = ctrl.Antecedent(np.arange(1, 10, 1), 'activity_level')\n",
    "caloric_intake = ctrl.Consequent(np.arange(1200, 3000, 10), 'caloric_intake')\n",
    "protein_intake = ctrl.Consequent(np.arange(10, 200, 1), 'protein_intake')\n",
    "\n"
   ]
  },
  {
   "cell_type": "markdown",
   "id": "2789a927",
   "metadata": {},
   "source": [
    "***4. Creating Membership Functions:***\n",
    "\n",
    "* For each fuzzy variable, triangular membership functions are defined. This process is known as fuzzification, where crisp values are converted into degrees of membership in fuzzy sets.\n",
    "* The membership functions for inputs (weight, age, activity level) and outputs (caloric intake, protein intake) are defined to categorize each variable into linguistic terms like 'low', 'medium', and 'high'."
   ]
  },
  {
   "cell_type": "code",
   "execution_count": 4,
   "id": "03a296ab",
   "metadata": {},
   "outputs": [],
   "source": [
    "# Define membership functions for each fuzzy variable\n",
    "# For weight\n",
    "weight['low'] = fuzz.trimf(weight.universe, [40, 40, 70])\n",
    "weight['normal'] = fuzz.trimf(weight.universe, [60, 75, 90])\n",
    "weight['high'] = fuzz.trimf(weight.universe, [85, 150, 150])\n",
    "\n",
    "# For age\n",
    "age['young'] = fuzz.trimf(age.universe, [18, 18, 35])\n",
    "age['middle_aged'] = fuzz.trimf(age.universe, [30, 45, 60])\n",
    "age['senior'] = fuzz.trimf(age.universe, [55, 80, 80])\n",
    "\n",
    "# For activity level\n",
    "activity_level['low'] = fuzz.trimf(activity_level.universe, [1, 1, 3])\n",
    "activity_level['medium'] = fuzz.trimf(activity_level.universe, [2, 5, 7])\n",
    "activity_level['high'] = fuzz.trimf(activity_level.universe, [6, 10, 10])\n",
    "\n",
    "# For caloric intake\n",
    "caloric_intake['low'] = fuzz.trimf(caloric_intake.universe, [1200, 1200, 1800])\n",
    "caloric_intake['medium'] = fuzz.trimf(caloric_intake.universe, [1600, 2000, 2400])\n",
    "caloric_intake['high'] = fuzz.trimf(caloric_intake.universe, [2200, 3000, 3000])\n",
    "\n",
    "# For protein intake\n",
    "protein_intake['low'] = fuzz.trimf(protein_intake.universe, [10, 10, 50])\n",
    "protein_intake['medium'] = fuzz.trimf(protein_intake.universe, [40, 75, 110])\n",
    "protein_intake['high'] = fuzz.trimf(protein_intake.universe, [100, 150, 200])\n"
   ]
  },
  {
   "cell_type": "markdown",
   "id": "dca788a5",
   "metadata": {},
   "source": [
    "***5. Defining Fuzzy Rules:***\n",
    "\n",
    "* Fuzzy rules are created using the ctrl.Rule method. These rules form the basis of the fuzzy logic inference in the Mamdani model.\n",
    "* Each rule links specific conditions from the input variables to outcomes in the output variables. For example, rule1 links 'low' weight, 'young' age, and 'high' activity level to a 'high' caloric intake and 'medium' protein intake."
   ]
  },
  {
   "cell_type": "code",
   "execution_count": 5,
   "id": "20260be7",
   "metadata": {},
   "outputs": [],
   "source": [
    "# Define rules\n",
    "rule1 = ctrl.Rule(weight['low'] & age['young'] & activity_level['high'], \n",
    "                  (caloric_intake['high'], protein_intake['medium']))\n",
    "rule2 = ctrl.Rule(weight['high'] & age['middle_aged'] & activity_level['low'], \n",
    "                  (caloric_intake['low'], protein_intake['low']))\n"
   ]
  },
  {
   "cell_type": "markdown",
   "id": "33c1ac21",
   "metadata": {},
   "source": [
    "***6. Creating the Fuzzy Control System:***\n",
    "\n",
    "* The ControlSystem object is initialized with the defined rules. This forms the knowledge base of the Mamdani fuzzy model.\n",
    "* The Mamdani model is characterized by its use of max-min inference and centroid defuzzification, which are inherently part of the ControlSystem in scikit-fuzzy."
   ]
  },
  {
   "cell_type": "code",
   "execution_count": 6,
   "id": "344ae6a1",
   "metadata": {},
   "outputs": [],
   "source": [
    "diet_control_system = ctrl.ControlSystem([rule1, rule2])  # Add all your rules here\n"
   ]
  },
  {
   "cell_type": "markdown",
   "id": "c776e712",
   "metadata": {},
   "source": [
    "***7. Simulation of the Fuzzy System:***\n",
    "\n",
    "* A ControlSystemSimulation object is created for the defined control system.\n",
    "* This simulation object allows for the input of crisp values, processes them through the fuzzy logic rules, and computes the fuzzy inference."
   ]
  },
  {
   "cell_type": "code",
   "execution_count": 7,
   "id": "ba04e6b2",
   "metadata": {},
   "outputs": [],
   "source": [
    "diet_simulation = ctrl.ControlSystemSimulation(diet_control_system)\n"
   ]
  },
  {
   "cell_type": "markdown",
   "id": "362037f2",
   "metadata": {},
   "source": [
    "***8. Running the Simulation:***\n",
    "\n",
    "* Crisp input values for weight, age, and activity level are provided to the system.\n",
    "* The compute method processes these inputs through the fuzzy rules and the Mamdani inference engine.\n",
    "\n",
    "***9. Obtaining Crisp Outputs (Defuzzification):***\n",
    "\n",
    "* The final step in the process is defuzzification, where the fuzzy output is converted back into a crisp value.\n",
    "* The system calculates the recommended caloric intake and protein intake as crisp numbers, which are the defuzzified outputs of the system."
   ]
  },
  {
   "cell_type": "code",
   "execution_count": 8,
   "id": "88ef36a5",
   "metadata": {},
   "outputs": [],
   "source": [
    "# Adjust input values for testing\n",
    "diet_simulation.input['weight'] = 60  # Example value within the 'normal' range\n",
    "diet_simulation.input['age'] = 25  # Example value within the 'young' range\n",
    "diet_simulation.input['activity_level'] = 7  # Example value within the 'high' range\n",
    "\n",
    "# Compute the output\n",
    "diet_simulation.compute()\n",
    "\n",
    "# Get the output values\n",
    "caloric_output = diet_simulation.output['caloric_intake']\n",
    "protein_output = diet_simulation.output['protein_intake']\n",
    "\n",
    "\n"
   ]
  },
  {
   "cell_type": "markdown",
   "id": "29eb8bac",
   "metadata": {},
   "source": [
    "***10. Printed Output:***\n",
    "\n",
    "* The system prints out the recommended caloric intake and protein intake, providing actionable and understandable advice based on the fuzzy logic computations."
   ]
  },
  {
   "cell_type": "code",
   "execution_count": 9,
   "id": "62dbf436",
   "metadata": {},
   "outputs": [
    {
     "name": "stdout",
     "output_type": "stream",
     "text": [
      "Recommended Caloric Intake: 2642.5845410628017 calories\n",
      "Recommended Protein Intake: 75.00000000000001 grams\n"
     ]
    }
   ],
   "source": [
    "print(f\"Recommended Caloric Intake: {caloric_output} calories\")\n",
    "print(f\"Recommended Protein Intake: {protein_output} grams\")"
   ]
  },
  {
   "cell_type": "markdown",
   "id": "19c305d1",
   "metadata": {},
   "source": [
    "***CONCLUSION***\n",
    "\n",
    "Our implementation effectively uses the Mamdani model of fuzzy inference. This model is particularly useful for applications like diet planning, where human-like reasoning and decision-making are required. The Mamdani model excels in handling the imprecision and subjectivity inherent in such tasks, making it a suitable choice for your dietician application."
   ]
  },
  {
   "cell_type": "code",
   "execution_count": null,
   "id": "c319444c",
   "metadata": {},
   "outputs": [],
   "source": []
  }
 ],
 "metadata": {
  "kernelspec": {
   "display_name": "Python 3 (ipykernel)",
   "language": "python",
   "name": "python3"
  },
  "language_info": {
   "codemirror_mode": {
    "name": "ipython",
    "version": 3
   },
   "file_extension": ".py",
   "mimetype": "text/x-python",
   "name": "python",
   "nbconvert_exporter": "python",
   "pygments_lexer": "ipython3",
   "version": "3.11.2"
  }
 },
 "nbformat": 4,
 "nbformat_minor": 5
}
